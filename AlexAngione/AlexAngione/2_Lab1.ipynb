{
 "cells": [
  {
   "cell_type": "markdown",
   "id": "38b04a1d-f457-48b2-8dc6-4f77ab45965f",
   "metadata": {},
   "source": [
    "# DS 3000/CS 3200 Lab 1\n",
    "\n",
    "Due: Tuesday May 13 in-class\n",
    "\n",
    "### Submission Instructions\n",
    "Upload this `ipynb` file to GitHub, and then to Gradescope.  To ensure that your submitted `ipynb` file represents your latest code, make sure to give a fresh `Kernel > Restart & Run All` just before uploading the `ipynb` file to GitHub and verify that the correct version is represented on Gradescope.\n",
    "\n",
    "### Tips for success\n",
    "- Collaborate: bounce ideas off of each other, if you are having trouble you can ask your classmates or Dr. Gerber for help with specific issues, however...\n",
    "- [(See)](http://www.northeastern.edu/osccr/academic-integrity), i.e. you are welcome to **talk about/discuss** (*not* show or allow each other to copy your answers to) the problems."
   ]
  },
  {
   "cell_type": "markdown",
   "id": "fea6c639-3049-4c85-a420-75f3e78d4793",
   "metadata": {},
   "source": [
    "# Part 1 (40 points): Intro to Markdown\n",
    "\n",
    "Use the markdown language below to create your own brief wikipedia-esque description of a topic related to International Government and Politics. \n",
    "\n",
    "Your mini-wiki page must include:\n",
    "- three headers: a title, subtitle and subsubtitle (the #, ##, ### syntax)\n",
    "- an embedded image from a web address (use an [image hosting site](https://makeawebsitehub.com/free-photo-hosting/) if you'd like to upload your own)\n",
    "- a **markdown** table of size at least 9 cells (i.e. 3 by 3, or 5 by 2)\n",
    "- a list in **markdown**\n",
    "- a link to another website\n",
    "\n",
    "To practice typing in math mode, also include a LaTeX formula describing how your final grade is going to be calculated based on the syllabus, something like:\n",
    "\n",
    "$$grade = weight_1*score_1 + weight_2*score_2$$\n",
    "\n",
    "Please be **brief** in your text.  Aim for roughly 3 sentences total of text."
   ]
  },
  {
   "cell_type": "markdown",
   "id": "df37d09b-4277-4555-8686-43b8b9cfb02b",
   "metadata": {},
   "source": [
    "# French cheese import laws\n",
    "\n",
    "## Brie Cheese \n",
    "![image.png](attachment:5d1f80f4-49b3-4b32-a70a-1d15ab9db87c.png)\n",
    "\n",
    "### How to handle imports, or potential imports\n",
    "All good, such as food products, must be declared when entering a country. \n",
    "\n",
    "\n",
    "\n",
    "| Type of Cheese    | Specifications |\n",
    "| -------- | ------- |\n",
    "| Hard and soft cheese  |   Approved to be brough into France as long as they do not pour like a liquid   |\n",
    "| Liquid milk and milk products | Products for small children are approved, otherwise ok in small batches     |\n",
    "| Powdered or Dried products    | Quanties are limited, but ok in small batches    |\n",
    "\n",
    "\n",
    "All good must be in individually wrapped and sealed backages. Becuase France is not a country known to have Foot and Mouth Disease, there are no restrictions on the types of cheeses that can be brough in. \n",
    "Just make sure that \n",
    "\n",
    "- Packages are sealed\n",
    "- Milk is pastruized and not raw\n",
    "- Products are declared on entry\n",
    "\n",
    "See [here](https://www.connexionfrance.com/practical/camembert-roquefort-brie-can-i-bring-french-cheeses-into-the-us/137251) for more info\n",
    "\n",
    "\n",
    "$ grade = assignment_1_weigh*score_1 + assignment_2_weigh*score_2 + extra_credit + brownie_points $\n"
   ]
  },
  {
   "cell_type": "markdown",
   "id": "8d3707b4-984d-4af6-bbb6-355d2c2ef93a",
   "metadata": {},
   "source": [
    "# Part 2: Numpy\n",
    "## Part 2.1: Creating Arrays (10 points)\n",
    "\n",
    "Create the following two arrays using the NumPy library and then print them out. Call the first array `array_a` and the second array `array_b` (make sure you keep the `import` statement below):\n",
    "\n",
    "$$\\mathbf{array_a} = \\begin{bmatrix}3 & 8 & -2 & 3\\\\\n",
    ".5 & -1 & 6 & 4\\\\\n",
    "-5 & 7 & -42 & 2\n",
    "\\end{bmatrix}$$\n",
    "\n",
    "$$\\mathbf{array_b} = \\begin{bmatrix}42 & 38 & 34\\\\\n",
    "30 & 26 & 22\\\\\n",
    "18 & 14 & 10\\\\\n",
    "6 & 2 & -2\\\\\n",
    "-6 & -10 & -14\n",
    "\\end{bmatrix}$$"
   ]
  },
  {
   "cell_type": "code",
   "execution_count": 5,
   "id": "3dee997f-f023-4144-a924-39db81382342",
   "metadata": {},
   "outputs": [],
   "source": [
    "# make sure to import numpy library\n",
    "import numpy as np"
   ]
  },
  {
   "cell_type": "code",
   "execution_count": 6,
   "id": "0c4cb6de-d72b-42c5-a90e-0ef7b481e38d",
   "metadata": {},
   "outputs": [],
   "source": [
    "array_a = np.array([[3, 8, -2, 3],\n",
    "                  [.5, -1, 6, 4],\n",
    "                  [-5, 7, -42, 2]])\n",
    "\n",
    "array_b = np.array([[42, 38, 34],\n",
    "                   [30, 26, 22],\n",
    "                    [18, 14, 10],\n",
    "                    [6, 2, -2],\n",
    "                   [-6, -10, -14]])"
   ]
  },
  {
   "cell_type": "code",
   "execution_count": 7,
   "id": "8892c9c5-df49-4156-95fe-62c8b1ef1746",
   "metadata": {},
   "outputs": [
    {
     "data": {
      "text/plain": [
       "array([[  3. ,   8. ,  -2. ,   3. ],\n",
       "       [  0.5,  -1. ,   6. ,   4. ],\n",
       "       [ -5. ,   7. , -42. ,   2. ]])"
      ]
     },
     "execution_count": 7,
     "metadata": {},
     "output_type": "execute_result"
    }
   ],
   "source": [
    "# uncomment below to print array_a\n",
    "array_a"
   ]
  },
  {
   "cell_type": "code",
   "execution_count": null,
   "id": "9b4e59f8-8e7d-46d1-93ca-144f274bf449",
   "metadata": {},
   "outputs": [],
   "source": []
  }
 ],
 "metadata": {
  "kernelspec": {
   "display_name": "Python 3 (ipykernel)",
   "language": "python",
   "name": "python3"
  },
  "language_info": {
   "codemirror_mode": {
    "name": "ipython",
    "version": 3
   },
   "file_extension": ".py",
   "mimetype": "text/x-python",
   "name": "python",
   "nbconvert_exporter": "python",
   "pygments_lexer": "ipython3",
   "version": "3.12.7"
  }
 },
 "nbformat": 4,
 "nbformat_minor": 5
}
